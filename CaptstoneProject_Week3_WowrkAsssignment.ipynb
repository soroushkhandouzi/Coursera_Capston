{
    "cells": [
        {
            "source": [
                "#PART1 - Converting WIKI table into PANDA DATAFRAME\n",
                "# Import libraries\n",
                "import pandas as pd\n",
                "import requests\n",
                "from bs4 import BeautifulSoup \n",
                "# Webscrapping the URL\n",
                "url = \"https://en.wikipedia.org/wiki/List_of_postal_codes_of_Canada:_M\"\n",
                "page = requests.get(url)\n",
                "print(page.status_code)\n",
                "soup = BeautifulSoup(page.text,\"html.parser\")"
            ],
            "cell_type": "code",
            "execution_count": 1,
            "outputs": [
                {
                    "output_type": "stream",
                    "name": "stdout",
                    "text": "200\n"
                }
            ],
            "metadata": {}
        },
        {
            "source": [
                "# READ Table\n",
                "Table_array = []\n",
                "Table_text_element = soup.find_all( class_= \"wikitable sortable\")\n",
                "Table_text_element=Table_text_element[0]\n",
                "for row in Table_text_element.find_all('tr'):\n",
                "        for cell in row.find_all('td'):\n",
                "             Table_array.append(cell.text)\n",
                "Table_array1string=', '.join(Table_array)\n",
                "Table_array1string = 'Column,PostCode,Borough,Neighbourhood' + '\\n, '+ Table_array1string\n",
                "fh = open ('Testfile.txt', 'w',)\n",
                "fh.write(Table_array1string)\n",
                "fh.close()\n",
                "df = pd.read_csv('Testfile.txt')\n",
                "#Remove the unwanted Column as part of Cleansing\n",
                "df.drop('Column',axis=1,inplace=True)"
            ],
            "cell_type": "code",
            "execution_count": 2,
            "outputs": [],
            "metadata": {}
        },
        {
            "source": [
                "# q1 Only process the cells that have an assigned borough. Ignore cells with a borough that is Not assigned.\n",
                "# Creating new dataframe excluding column - Borough having value \n",
                "df_q1= df[df['Borough'] != ' Not assigned']\n",
                "print(df_q1.shape)\n",
                "df_q1.head()"
            ],
            "cell_type": "code",
            "execution_count": 3,
            "outputs": [
                {
                    "output_type": "stream",
                    "name": "stdout",
                    "text": "(540, 3)\n"
                },
                {
                    "output_type": "execute_result",
                    "data": {
                        "text/plain": "        PostCode Borough  Neighbourhood\n0            M1A     NaN            NaN\n1   Not assigned     NaN            NaN\n2                    NaN            NaN\n3            M2A     NaN            NaN\n4   Not assigned     NaN            NaN",
                        "text/html": "<div>\n<style scoped>\n    .dataframe tbody tr th:only-of-type {\n        vertical-align: middle;\n    }\n\n    .dataframe tbody tr th {\n        vertical-align: top;\n    }\n\n    .dataframe thead th {\n        text-align: right;\n    }\n</style>\n<table border=\"1\" class=\"dataframe\">\n  <thead>\n    <tr style=\"text-align: right;\">\n      <th></th>\n      <th>PostCode</th>\n      <th>Borough</th>\n      <th>Neighbourhood</th>\n    </tr>\n  </thead>\n  <tbody>\n    <tr>\n      <th>0</th>\n      <td>M1A</td>\n      <td>NaN</td>\n      <td>NaN</td>\n    </tr>\n    <tr>\n      <th>1</th>\n      <td>Not assigned</td>\n      <td>NaN</td>\n      <td>NaN</td>\n    </tr>\n    <tr>\n      <th>2</th>\n      <td></td>\n      <td>NaN</td>\n      <td>NaN</td>\n    </tr>\n    <tr>\n      <th>3</th>\n      <td>M2A</td>\n      <td>NaN</td>\n      <td>NaN</td>\n    </tr>\n    <tr>\n      <th>4</th>\n      <td>Not assigned</td>\n      <td>NaN</td>\n      <td>NaN</td>\n    </tr>\n  </tbody>\n</table>\n</div>"
                    },
                    "metadata": {},
                    "execution_count": 3
                }
            ],
            "metadata": {}
        },
        {
            "source": [
                "#Q3 If a cell has a borough but a Not assigned neighborhood, then the neighborhood will be the same as the borough. \n",
                "#Replacing Neighbourhood value with borough if its ' Not assigned'\n",
                "df_q1.loc[df_q1['Neighbourhood'] == ' Not assigned', 'Neighbourhood'] = df_q1.Borough\n",
                "print (df_q1.shape)\n",
                "\n",
                "#Q2 More than one neighborhood can exist in one postal code area. \n",
                "#For example, in the table on the Wikipedia page, you will notice that M5A is listed twice and has two neighborhoods: \n",
                "#Harbourfront and Regent Park. These two rows will be combined into one row with the neighborhoods separated with a comma as \n",
                "#shown in row 11 in the above table.\n",
                "\n",
                "res= df_q1.groupby(['PostCode','Borough']).Neighbourhood.agg([('Neighbourhood', ', '.join)]).reset_index()\n",
                "print(\"Number of rows in the final dataframe as per .Shape \", res.shape)\n",
                "\n",
                "res.columns = ['Postal Code', 'Borough', 'Neighbourhood']\n",
                "res.head() \n",
                "res.tail()\n",
                "# END OF PART1"
            ],
            "cell_type": "code",
            "execution_count": 4,
            "outputs": [
                {
                    "output_type": "stream",
                    "name": "stdout",
                    "text": "(211, 3)\nNumber of rows in the final dataframe as per .Shape  (103, 3)\n"
                },
                {
                    "output_type": "stream",
                    "name": "stderr",
                    "text": "/opt/conda/envs/Python36/lib/python3.6/site-packages/pandas/core/indexing.py:190: SettingWithCopyWarning: \nA value is trying to be set on a copy of a slice from a DataFrame\n\nSee the caveats in the documentation: http://pandas.pydata.org/pandas-docs/stable/indexing.html#indexing-view-versus-copy\n  self._setitem_with_indexer(indexer, value)\n/opt/conda/envs/Python36/lib/python3.6/site-packages/ipykernel/__main__.py:3: SettingWithCopyWarning: \nA value is trying to be set on a copy of a slice from a DataFrame\n\nSee the caveats in the documentation: http://pandas.pydata.org/pandas-docs/stable/indexing.html#indexing-view-versus-copy\n  app.launch_new_instance()\n"
                },
                {
                    "output_type": "execute_result",
                    "metadata": {},
                    "data": {
                        "text/html": "<div>\n<style scoped>\n    .dataframe tbody tr th:only-of-type {\n        vertical-align: middle;\n    }\n\n    .dataframe tbody tr th {\n        vertical-align: top;\n    }\n\n    .dataframe thead th {\n        text-align: right;\n    }\n</style>\n<table border=\"1\" class=\"dataframe\">\n  <thead>\n    <tr style=\"text-align: right;\">\n      <th></th>\n      <th>Postal Code</th>\n      <th>Borough</th>\n      <th>Neighbourhood</th>\n    </tr>\n  </thead>\n  <tbody>\n    <tr>\n      <th>98</th>\n      <td>M9N</td>\n      <td>York</td>\n      <td>Weston</td>\n    </tr>\n    <tr>\n      <th>99</th>\n      <td>M9P</td>\n      <td>Etobicoke</td>\n      <td>Westmount</td>\n    </tr>\n    <tr>\n      <th>100</th>\n      <td>M9R</td>\n      <td>Etobicoke</td>\n      <td>Kingsview Village,  Martin Grove Gardens,  Ri...</td>\n    </tr>\n    <tr>\n      <th>101</th>\n      <td>M9V</td>\n      <td>Etobicoke</td>\n      <td>Albion Gardens,  Beaumond Heights,  Humbergat...</td>\n    </tr>\n    <tr>\n      <th>102</th>\n      <td>M9W</td>\n      <td>Etobicoke</td>\n      <td>Northwest</td>\n    </tr>\n  </tbody>\n</table>\n</div>",
                        "text/plain": "    Postal Code     Borough                                      Neighbourhood\n98          M9N        York                                             Weston\n99          M9P   Etobicoke                                          Westmount\n100         M9R   Etobicoke   Kingsview Village,  Martin Grove Gardens,  Ri...\n101         M9V   Etobicoke   Albion Gardens,  Beaumond Heights,  Humbergat...\n102         M9W   Etobicoke                                          Northwest"
                    },
                    "execution_count": 4
                }
            ],
            "metadata": {
                "scrolled": true
            }
        },
        {
            "source": [
                "# PART 2 - MERGING IT WITH GEOSPATIAL DATA BEING PROVIDED\n",
                "# Reading it from the geo file -http://cocl.us/Geospatial_data\n",
                "print(type(res))\n",
                "url = \"http://cocl.us/Geospatial_data\"\n",
                "geodf = pd.read_csv(url)\n",
                "geodf.columns = ['GeoPostCode','Latitude', 'Longitude']\n"
            ],
            "cell_type": "code",
            "execution_count": 4,
            "outputs": [
                {
                    "output_type": "error",
                    "ename": "NameError",
                    "evalue": "name 'res' is not defined",
                    "traceback": [
                        "\u001b[0;31m---------------------------------------------------------------------------\u001b[0m",
                        "\u001b[0;31mNameError\u001b[0m                                 Traceback (most recent call last)",
                        "\u001b[0;32m<ipython-input-4-b6a0e5c14144>\u001b[0m in \u001b[0;36m<module>\u001b[0;34m\u001b[0m\n\u001b[1;32m      1\u001b[0m \u001b[0;31m# PART 2 - MERGING IT WITH GEOSPATIAL DATA BEING PROVIDED\u001b[0m\u001b[0;34m\u001b[0m\u001b[0;34m\u001b[0m\u001b[0;34m\u001b[0m\u001b[0m\n\u001b[1;32m      2\u001b[0m \u001b[0;31m# Reading it from the geo file -http://cocl.us/Geospatial_data\u001b[0m\u001b[0;34m\u001b[0m\u001b[0;34m\u001b[0m\u001b[0;34m\u001b[0m\u001b[0m\n\u001b[0;32m----> 3\u001b[0;31m \u001b[0mprint\u001b[0m\u001b[0;34m(\u001b[0m\u001b[0mtype\u001b[0m\u001b[0;34m(\u001b[0m\u001b[0mres\u001b[0m\u001b[0;34m)\u001b[0m\u001b[0;34m)\u001b[0m\u001b[0;34m\u001b[0m\u001b[0;34m\u001b[0m\u001b[0m\n\u001b[0m\u001b[1;32m      4\u001b[0m \u001b[0murl\u001b[0m \u001b[0;34m=\u001b[0m \u001b[0;34m\"http://cocl.us/Geospatial_data\"\u001b[0m\u001b[0;34m\u001b[0m\u001b[0;34m\u001b[0m\u001b[0m\n\u001b[1;32m      5\u001b[0m \u001b[0mgeodf\u001b[0m \u001b[0;34m=\u001b[0m \u001b[0mpd\u001b[0m\u001b[0;34m.\u001b[0m\u001b[0mread_csv\u001b[0m\u001b[0;34m(\u001b[0m\u001b[0murl\u001b[0m\u001b[0;34m)\u001b[0m\u001b[0;34m\u001b[0m\u001b[0;34m\u001b[0m\u001b[0m\n",
                        "\u001b[0;31mNameError\u001b[0m: name 'res' is not defined"
                    ]
                }
            ],
            "metadata": {}
        },
        {
            "source": [
                "# Quick verification & Comparison with the earlier data frame  res in Part1 , before we merge it.\n",
                "print(geodf.head())\n",
                "print(geodf.tail())"
            ],
            "cell_type": "code",
            "execution_count": 6,
            "outputs": [
                {
                    "output_type": "stream",
                    "name": "stdout",
                    "text": "  GeoPostCode   Latitude  Longitude\n0         M1B  43.806686 -79.194353\n1         M1C  43.784535 -79.160497\n2         M1E  43.763573 -79.188711\n3         M1G  43.770992 -79.216917\n4         M1H  43.773136 -79.239476\n    GeoPostCode   Latitude  Longitude\n98          M9N  43.706876 -79.518188\n99          M9P  43.696319 -79.532242\n100         M9R  43.688905 -79.554724\n101         M9V  43.739416 -79.588437\n102         M9W  43.706748 -79.594054\n"
                }
            ],
            "metadata": {}
        },
        {
            "source": [
                "Concatdf = pd.concat([res,geodf], axis=1)\n",
                "finalgeodf=Concatdf.drop(['GeoPostCode'] , axis=1)\n",
                "finalgeodf.head()\n",
                "# End of Part2"
            ],
            "cell_type": "code",
            "execution_count": 5,
            "outputs": [
                {
                    "output_type": "error",
                    "ename": "NameError",
                    "evalue": "name 'res' is not defined",
                    "traceback": [
                        "\u001b[0;31m---------------------------------------------------------------------------\u001b[0m",
                        "\u001b[0;31mNameError\u001b[0m                                 Traceback (most recent call last)",
                        "\u001b[0;32m<ipython-input-5-c7dffb1ab665>\u001b[0m in \u001b[0;36m<module>\u001b[0;34m\u001b[0m\n\u001b[0;32m----> 1\u001b[0;31m \u001b[0mConcatdf\u001b[0m \u001b[0;34m=\u001b[0m \u001b[0mpd\u001b[0m\u001b[0;34m.\u001b[0m\u001b[0mconcat\u001b[0m\u001b[0;34m(\u001b[0m\u001b[0;34m[\u001b[0m\u001b[0mres\u001b[0m\u001b[0;34m,\u001b[0m\u001b[0mgeodf\u001b[0m\u001b[0;34m]\u001b[0m\u001b[0;34m,\u001b[0m \u001b[0maxis\u001b[0m\u001b[0;34m=\u001b[0m\u001b[0;36m1\u001b[0m\u001b[0;34m)\u001b[0m\u001b[0;34m\u001b[0m\u001b[0;34m\u001b[0m\u001b[0m\n\u001b[0m\u001b[1;32m      2\u001b[0m \u001b[0mfinalgeodf\u001b[0m\u001b[0;34m=\u001b[0m\u001b[0mConcatdf\u001b[0m\u001b[0;34m.\u001b[0m\u001b[0mdrop\u001b[0m\u001b[0;34m(\u001b[0m\u001b[0;34m[\u001b[0m\u001b[0;34m'GeoPostCode'\u001b[0m\u001b[0;34m]\u001b[0m \u001b[0;34m,\u001b[0m \u001b[0maxis\u001b[0m\u001b[0;34m=\u001b[0m\u001b[0;36m1\u001b[0m\u001b[0;34m)\u001b[0m\u001b[0;34m\u001b[0m\u001b[0;34m\u001b[0m\u001b[0m\n\u001b[1;32m      3\u001b[0m \u001b[0mfinalgeodf\u001b[0m\u001b[0;34m.\u001b[0m\u001b[0mhead\u001b[0m\u001b[0;34m(\u001b[0m\u001b[0;34m)\u001b[0m\u001b[0;34m\u001b[0m\u001b[0;34m\u001b[0m\u001b[0m\n\u001b[1;32m      4\u001b[0m \u001b[0;31m# End of Part2\u001b[0m\u001b[0;34m\u001b[0m\u001b[0;34m\u001b[0m\u001b[0;34m\u001b[0m\u001b[0m\n",
                        "\u001b[0;31mNameError\u001b[0m: name 'res' is not defined"
                    ]
                }
            ],
            "metadata": {}
        },
        {
            "source": [
                "# PART 3 - Explore and cluster the neighborhoods in Toronto. You can decide to work with only boroughs that contain the word Toronto \n",
                "\n",
                "import numpy as np # library to handle data in a vectorized manner\n",
                "\n",
                "import pandas as pd # library for data analsysis\n",
                "pd.set_option('display.max_columns', None)\n",
                "pd.set_option('display.max_rows', None)\n",
                "\n",
                "import json # library to handle JSON files\n",
                "\n",
                "!conda install -c conda-forge geopy --yes # uncomment this line if you haven't completed the Foursquare API lab\n",
                "from geopy.geocoders import Nominatim # convert an address into latitude and longitude values\n",
                "\n",
                "import requests # library to handle requests\n",
                "from pandas.io.json import json_normalize # tranform JSON file into a pandas dataframe\n",
                "\n",
                "# Matplotlib and associated plotting modules\n",
                "import matplotlib.cm as cm\n",
                "import matplotlib.colors as colors\n",
                "\n",
                "# import k-means from clustering stage\n",
                "from sklearn.cluster import KMeans\n",
                "\n",
                "!conda install -c conda-forge folium=0.5.0 --yes # uncomment this line if you haven't completed the Foursquare API lab\n",
                "import folium # map rendering library\n",
                "\n",
                "print('Libraries imported.')"
            ],
            "cell_type": "code",
            "execution_count": 8,
            "outputs": [
                {
                    "output_type": "stream",
                    "name": "stdout",
                    "text": "Solving environment: done\n\n## Package Plan ##\n\n  environment location: /opt/conda/envs/Python36\n\n  added / updated specs: \n    - geopy\n\n\nThe following packages will be downloaded:\n\n    package                    |            build\n    ---------------------------|-----------------\n    openssl-1.1.1c             |       h516909a_0         2.1 MB  conda-forge\n    ca-certificates-2019.9.11  |       hecc5488_0         144 KB  conda-forge\n    geopy-1.20.0               |             py_0          57 KB  conda-forge\n    certifi-2019.9.11          |           py36_0         147 KB  conda-forge\n    geographiclib-1.49         |             py_0          32 KB  conda-forge\n    ------------------------------------------------------------\n                                           Total:         2.5 MB\n\nThe following NEW packages will be INSTALLED:\n\n    geographiclib:   1.49-py_0         conda-forge\n    geopy:           1.20.0-py_0       conda-forge\n\nThe following packages will be UPDATED:\n\n    ca-certificates: 2019.5.15-1                   --> 2019.9.11-hecc5488_0 conda-forge\n    certifi:         2019.6.16-py36_1              --> 2019.9.11-py36_0     conda-forge\n\nThe following packages will be DOWNGRADED:\n\n    openssl:         1.1.1c-h7b6447c_1             --> 1.1.1c-h516909a_0    conda-forge\n\n\nDownloading and Extracting Packages\nopenssl-1.1.1c       | 2.1 MB    | ##################################### | 100% \nca-certificates-2019 | 144 KB    | ##################################### | 100% \ngeopy-1.20.0         | 57 KB     | ##################################### | 100% \ncertifi-2019.9.11    | 147 KB    | ##################################### | 100% \ngeographiclib-1.49   | 32 KB     | ##################################### | 100% \nPreparing transaction: done\nVerifying transaction: done\nExecuting transaction: done\nSolving environment: done\n\n## Package Plan ##\n\n  environment location: /opt/conda/envs/Python36\n\n  added / updated specs: \n    - folium=0.5.0\n\n\nThe following packages will be downloaded:\n\n    package                    |            build\n    ---------------------------|-----------------\n    folium-0.5.0               |             py_0          45 KB  conda-forge\n    branca-0.3.1               |             py_0          25 KB  conda-forge\n    vincent-0.4.4              |             py_1          28 KB  conda-forge\n    altair-3.2.0               |           py36_0         770 KB  conda-forge\n    ------------------------------------------------------------\n                                           Total:         868 KB\n\nThe following NEW packages will be INSTALLED:\n\n    altair:  3.2.0-py36_0 conda-forge\n    branca:  0.3.1-py_0   conda-forge\n    folium:  0.5.0-py_0   conda-forge\n    vincent: 0.4.4-py_1   conda-forge\n\n\nDownloading and Extracting Packages\nfolium-0.5.0         | 45 KB     | ##################################### | 100% \nbranca-0.3.1         | 25 KB     | ##################################### | 100% \nvincent-0.4.4        | 28 KB     | ##################################### | 100% \naltair-3.2.0         | 770 KB    | ##################################### | 100% \nPreparing transaction: done\nVerifying transaction: done\nExecuting transaction: done\nLibraries imported.\n"
                }
            ],
            "metadata": {}
        },
        {
            "source": [
                "address = 'Toronto, CA'\n",
                "geolocator = Nominatim(user_agent=\"Toronto_explorer\")\n",
                "location = geolocator.geocode(address)\n",
                "latitude = location.latitude\n",
                "longitude = location.longitude\n",
                "print('The geograpical coordinate of Toronto are {}, {}.'.format(latitude, longitude))"
            ],
            "cell_type": "code",
            "execution_count": 6,
            "outputs": [
                {
                    "output_type": "error",
                    "ename": "NameError",
                    "evalue": "name 'Nominatim' is not defined",
                    "traceback": [
                        "\u001b[0;31m---------------------------------------------------------------------------\u001b[0m",
                        "\u001b[0;31mNameError\u001b[0m                                 Traceback (most recent call last)",
                        "\u001b[0;32m<ipython-input-6-f2d54f984f2d>\u001b[0m in \u001b[0;36m<module>\u001b[0;34m\u001b[0m\n\u001b[1;32m      1\u001b[0m \u001b[0maddress\u001b[0m \u001b[0;34m=\u001b[0m \u001b[0;34m'Toronto, CA'\u001b[0m\u001b[0;34m\u001b[0m\u001b[0;34m\u001b[0m\u001b[0m\n\u001b[0;32m----> 2\u001b[0;31m \u001b[0mgeolocator\u001b[0m \u001b[0;34m=\u001b[0m \u001b[0mNominatim\u001b[0m\u001b[0;34m(\u001b[0m\u001b[0muser_agent\u001b[0m\u001b[0;34m=\u001b[0m\u001b[0;34m\"Toronto_explorer\"\u001b[0m\u001b[0;34m)\u001b[0m\u001b[0;34m\u001b[0m\u001b[0;34m\u001b[0m\u001b[0m\n\u001b[0m\u001b[1;32m      3\u001b[0m \u001b[0mlocation\u001b[0m \u001b[0;34m=\u001b[0m \u001b[0mgeolocator\u001b[0m\u001b[0;34m.\u001b[0m\u001b[0mgeocode\u001b[0m\u001b[0;34m(\u001b[0m\u001b[0maddress\u001b[0m\u001b[0;34m)\u001b[0m\u001b[0;34m\u001b[0m\u001b[0;34m\u001b[0m\u001b[0m\n\u001b[1;32m      4\u001b[0m \u001b[0mlatitude\u001b[0m \u001b[0;34m=\u001b[0m \u001b[0mlocation\u001b[0m\u001b[0;34m.\u001b[0m\u001b[0mlatitude\u001b[0m\u001b[0;34m\u001b[0m\u001b[0;34m\u001b[0m\u001b[0m\n\u001b[1;32m      5\u001b[0m \u001b[0mlongitude\u001b[0m \u001b[0;34m=\u001b[0m \u001b[0mlocation\u001b[0m\u001b[0;34m.\u001b[0m\u001b[0mlongitude\u001b[0m\u001b[0;34m\u001b[0m\u001b[0;34m\u001b[0m\u001b[0m\n",
                        "\u001b[0;31mNameError\u001b[0m: name 'Nominatim' is not defined"
                    ]
                }
            ],
            "metadata": {}
        },
        {
            "source": [
                "# Extracting those boroughs which got Toronto in it from the original data frame finalgeodf\n",
                "finalgeodf.head()\n",
                "Torontogeodf = finalgeodf.loc[finalgeodf['Borough'].str.contains('Toronto')].reset_index()\n",
                "Torontogeodf.shape\n",
                "Torontogeodf"
            ],
            "cell_type": "code",
            "execution_count": 29,
            "outputs": [
                {
                    "output_type": "execute_result",
                    "metadata": {},
                    "data": {
                        "text/html": "<div>\n<style scoped>\n    .dataframe tbody tr th:only-of-type {\n        vertical-align: middle;\n    }\n\n    .dataframe tbody tr th {\n        vertical-align: top;\n    }\n\n    .dataframe thead th {\n        text-align: right;\n    }\n</style>\n<table border=\"1\" class=\"dataframe\">\n  <thead>\n    <tr style=\"text-align: right;\">\n      <th></th>\n      <th>index</th>\n      <th>Postal Code</th>\n      <th>Borough</th>\n      <th>Neighbourhood</th>\n      <th>Latitude</th>\n      <th>Longitude</th>\n    </tr>\n  </thead>\n  <tbody>\n    <tr>\n      <th>0</th>\n      <td>37</td>\n      <td>M4E</td>\n      <td>East Toronto</td>\n      <td>The Beaches</td>\n      <td>43.676357</td>\n      <td>-79.293031</td>\n    </tr>\n    <tr>\n      <th>1</th>\n      <td>41</td>\n      <td>M4K</td>\n      <td>East Toronto</td>\n      <td>The Danforth West,  Riverdale</td>\n      <td>43.679557</td>\n      <td>-79.352188</td>\n    </tr>\n    <tr>\n      <th>2</th>\n      <td>42</td>\n      <td>M4L</td>\n      <td>East Toronto</td>\n      <td>The Beaches West,  India Bazaar</td>\n      <td>43.668999</td>\n      <td>-79.315572</td>\n    </tr>\n    <tr>\n      <th>3</th>\n      <td>43</td>\n      <td>M4M</td>\n      <td>East Toronto</td>\n      <td>Studio District</td>\n      <td>43.659526</td>\n      <td>-79.340923</td>\n    </tr>\n    <tr>\n      <th>4</th>\n      <td>44</td>\n      <td>M4N</td>\n      <td>Central Toronto</td>\n      <td>Lawrence Park</td>\n      <td>43.728020</td>\n      <td>-79.388790</td>\n    </tr>\n    <tr>\n      <th>5</th>\n      <td>45</td>\n      <td>M4P</td>\n      <td>Central Toronto</td>\n      <td>Davisville North</td>\n      <td>43.712751</td>\n      <td>-79.390197</td>\n    </tr>\n    <tr>\n      <th>6</th>\n      <td>46</td>\n      <td>M4R</td>\n      <td>Central Toronto</td>\n      <td>North Toronto West</td>\n      <td>43.715383</td>\n      <td>-79.405678</td>\n    </tr>\n    <tr>\n      <th>7</th>\n      <td>47</td>\n      <td>M4S</td>\n      <td>Central Toronto</td>\n      <td>Davisville</td>\n      <td>43.704324</td>\n      <td>-79.388790</td>\n    </tr>\n    <tr>\n      <th>8</th>\n      <td>48</td>\n      <td>M4T</td>\n      <td>Central Toronto</td>\n      <td>Moore Park,  Summerhill East</td>\n      <td>43.689574</td>\n      <td>-79.383160</td>\n    </tr>\n    <tr>\n      <th>9</th>\n      <td>49</td>\n      <td>M4V</td>\n      <td>Central Toronto</td>\n      <td>Deer Park,  Forest Hill SE,  Rathnelly,  Sout...</td>\n      <td>43.686412</td>\n      <td>-79.400049</td>\n    </tr>\n    <tr>\n      <th>10</th>\n      <td>50</td>\n      <td>M4W</td>\n      <td>Downtown Toronto</td>\n      <td>Rosedale</td>\n      <td>43.679563</td>\n      <td>-79.377529</td>\n    </tr>\n    <tr>\n      <th>11</th>\n      <td>51</td>\n      <td>M4X</td>\n      <td>Downtown Toronto</td>\n      <td>Cabbagetown,  St. James Town</td>\n      <td>43.667967</td>\n      <td>-79.367675</td>\n    </tr>\n    <tr>\n      <th>12</th>\n      <td>52</td>\n      <td>M4Y</td>\n      <td>Downtown Toronto</td>\n      <td>Church and Wellesley</td>\n      <td>43.665860</td>\n      <td>-79.383160</td>\n    </tr>\n    <tr>\n      <th>13</th>\n      <td>53</td>\n      <td>M5A</td>\n      <td>Downtown Toronto</td>\n      <td>Harbourfront,  Regent Park</td>\n      <td>43.654260</td>\n      <td>-79.360636</td>\n    </tr>\n    <tr>\n      <th>14</th>\n      <td>54</td>\n      <td>M5B</td>\n      <td>Downtown Toronto</td>\n      <td>Ryerson,  Garden District</td>\n      <td>43.657162</td>\n      <td>-79.378937</td>\n    </tr>\n    <tr>\n      <th>15</th>\n      <td>55</td>\n      <td>M5C</td>\n      <td>Downtown Toronto</td>\n      <td>St. James Town</td>\n      <td>43.651494</td>\n      <td>-79.375418</td>\n    </tr>\n    <tr>\n      <th>16</th>\n      <td>56</td>\n      <td>M5E</td>\n      <td>Downtown Toronto</td>\n      <td>Berczy Park</td>\n      <td>43.644771</td>\n      <td>-79.373306</td>\n    </tr>\n    <tr>\n      <th>17</th>\n      <td>57</td>\n      <td>M5G</td>\n      <td>Downtown Toronto</td>\n      <td>Central Bay Street</td>\n      <td>43.657952</td>\n      <td>-79.387383</td>\n    </tr>\n    <tr>\n      <th>18</th>\n      <td>58</td>\n      <td>M5H</td>\n      <td>Downtown Toronto</td>\n      <td>Adelaide,  King,  Richmond</td>\n      <td>43.650571</td>\n      <td>-79.384568</td>\n    </tr>\n    <tr>\n      <th>19</th>\n      <td>59</td>\n      <td>M5J</td>\n      <td>Downtown Toronto</td>\n      <td>Harbourfront East,  Toronto Islands,  Union S...</td>\n      <td>43.640816</td>\n      <td>-79.381752</td>\n    </tr>\n    <tr>\n      <th>20</th>\n      <td>60</td>\n      <td>M5K</td>\n      <td>Downtown Toronto</td>\n      <td>Design Exchange,  Toronto Dominion Centre</td>\n      <td>43.647177</td>\n      <td>-79.381576</td>\n    </tr>\n    <tr>\n      <th>21</th>\n      <td>61</td>\n      <td>M5L</td>\n      <td>Downtown Toronto</td>\n      <td>Commerce Court,  Victoria Hotel</td>\n      <td>43.648198</td>\n      <td>-79.379817</td>\n    </tr>\n    <tr>\n      <th>22</th>\n      <td>63</td>\n      <td>M5N</td>\n      <td>Central Toronto</td>\n      <td>Roselawn</td>\n      <td>43.711695</td>\n      <td>-79.416936</td>\n    </tr>\n    <tr>\n      <th>23</th>\n      <td>64</td>\n      <td>M5P</td>\n      <td>Central Toronto</td>\n      <td>Forest Hill North,  Forest Hill West</td>\n      <td>43.696948</td>\n      <td>-79.411307</td>\n    </tr>\n    <tr>\n      <th>24</th>\n      <td>65</td>\n      <td>M5R</td>\n      <td>Central Toronto</td>\n      <td>The Annex,  North Midtown,  Yorkville</td>\n      <td>43.672710</td>\n      <td>-79.405678</td>\n    </tr>\n    <tr>\n      <th>25</th>\n      <td>66</td>\n      <td>M5S</td>\n      <td>Downtown Toronto</td>\n      <td>Harbord,  University of Toronto</td>\n      <td>43.662696</td>\n      <td>-79.400049</td>\n    </tr>\n    <tr>\n      <th>26</th>\n      <td>67</td>\n      <td>M5T</td>\n      <td>Downtown Toronto</td>\n      <td>Chinatown,  Grange Park,  Kensington Market</td>\n      <td>43.653206</td>\n      <td>-79.400049</td>\n    </tr>\n    <tr>\n      <th>27</th>\n      <td>68</td>\n      <td>M5V</td>\n      <td>Downtown Toronto</td>\n      <td>CN Tower,  Bathurst Quay,  Island airport,  H...</td>\n      <td>43.628947</td>\n      <td>-79.394420</td>\n    </tr>\n    <tr>\n      <th>28</th>\n      <td>69</td>\n      <td>M5W</td>\n      <td>Downtown Toronto</td>\n      <td>Stn A PO Boxes 25 The Esplanade</td>\n      <td>43.646435</td>\n      <td>-79.374846</td>\n    </tr>\n    <tr>\n      <th>29</th>\n      <td>70</td>\n      <td>M5X</td>\n      <td>Downtown Toronto</td>\n      <td>First Canadian Place,  Underground city</td>\n      <td>43.648429</td>\n      <td>-79.382280</td>\n    </tr>\n    <tr>\n      <th>30</th>\n      <td>75</td>\n      <td>M6G</td>\n      <td>Downtown Toronto</td>\n      <td>Christie</td>\n      <td>43.669542</td>\n      <td>-79.422564</td>\n    </tr>\n    <tr>\n      <th>31</th>\n      <td>76</td>\n      <td>M6H</td>\n      <td>West Toronto</td>\n      <td>Dovercourt Village,  Dufferin</td>\n      <td>43.669005</td>\n      <td>-79.442259</td>\n    </tr>\n    <tr>\n      <th>32</th>\n      <td>77</td>\n      <td>M6J</td>\n      <td>West Toronto</td>\n      <td>Little Portugal,  Trinity</td>\n      <td>43.647927</td>\n      <td>-79.419750</td>\n    </tr>\n    <tr>\n      <th>33</th>\n      <td>78</td>\n      <td>M6K</td>\n      <td>West Toronto</td>\n      <td>Brockton,  Exhibition Place,  Parkdale Village</td>\n      <td>43.636847</td>\n      <td>-79.428191</td>\n    </tr>\n    <tr>\n      <th>34</th>\n      <td>82</td>\n      <td>M6P</td>\n      <td>West Toronto</td>\n      <td>High Park,  The Junction South</td>\n      <td>43.661608</td>\n      <td>-79.464763</td>\n    </tr>\n    <tr>\n      <th>35</th>\n      <td>83</td>\n      <td>M6R</td>\n      <td>West Toronto</td>\n      <td>Parkdale,  Roncesvalles</td>\n      <td>43.648960</td>\n      <td>-79.456325</td>\n    </tr>\n    <tr>\n      <th>36</th>\n      <td>84</td>\n      <td>M6S</td>\n      <td>West Toronto</td>\n      <td>Runnymede,  Swansea</td>\n      <td>43.651571</td>\n      <td>-79.484450</td>\n    </tr>\n    <tr>\n      <th>37</th>\n      <td>87</td>\n      <td>M7Y</td>\n      <td>East Toronto</td>\n      <td>Business Reply Mail Processing Centre 969 Eas...</td>\n      <td>43.662744</td>\n      <td>-79.321558</td>\n    </tr>\n  </tbody>\n</table>\n</div>",
                        "text/plain": "    index Postal Code            Borough  \\\n0      37         M4E       East Toronto   \n1      41         M4K       East Toronto   \n2      42         M4L       East Toronto   \n3      43         M4M       East Toronto   \n4      44         M4N    Central Toronto   \n5      45         M4P    Central Toronto   \n6      46         M4R    Central Toronto   \n7      47         M4S    Central Toronto   \n8      48         M4T    Central Toronto   \n9      49         M4V    Central Toronto   \n10     50         M4W   Downtown Toronto   \n11     51         M4X   Downtown Toronto   \n12     52         M4Y   Downtown Toronto   \n13     53         M5A   Downtown Toronto   \n14     54         M5B   Downtown Toronto   \n15     55         M5C   Downtown Toronto   \n16     56         M5E   Downtown Toronto   \n17     57         M5G   Downtown Toronto   \n18     58         M5H   Downtown Toronto   \n19     59         M5J   Downtown Toronto   \n20     60         M5K   Downtown Toronto   \n21     61         M5L   Downtown Toronto   \n22     63         M5N    Central Toronto   \n23     64         M5P    Central Toronto   \n24     65         M5R    Central Toronto   \n25     66         M5S   Downtown Toronto   \n26     67         M5T   Downtown Toronto   \n27     68         M5V   Downtown Toronto   \n28     69         M5W   Downtown Toronto   \n29     70         M5X   Downtown Toronto   \n30     75         M6G   Downtown Toronto   \n31     76         M6H       West Toronto   \n32     77         M6J       West Toronto   \n33     78         M6K       West Toronto   \n34     82         M6P       West Toronto   \n35     83         M6R       West Toronto   \n36     84         M6S       West Toronto   \n37     87         M7Y       East Toronto   \n\n                                        Neighbourhood   Latitude  Longitude  \n0                                         The Beaches  43.676357 -79.293031  \n1                       The Danforth West,  Riverdale  43.679557 -79.352188  \n2                     The Beaches West,  India Bazaar  43.668999 -79.315572  \n3                                     Studio District  43.659526 -79.340923  \n4                                       Lawrence Park  43.728020 -79.388790  \n5                                    Davisville North  43.712751 -79.390197  \n6                                  North Toronto West  43.715383 -79.405678  \n7                                          Davisville  43.704324 -79.388790  \n8                        Moore Park,  Summerhill East  43.689574 -79.383160  \n9    Deer Park,  Forest Hill SE,  Rathnelly,  Sout...  43.686412 -79.400049  \n10                                           Rosedale  43.679563 -79.377529  \n11                       Cabbagetown,  St. James Town  43.667967 -79.367675  \n12                               Church and Wellesley  43.665860 -79.383160  \n13                         Harbourfront,  Regent Park  43.654260 -79.360636  \n14                          Ryerson,  Garden District  43.657162 -79.378937  \n15                                     St. James Town  43.651494 -79.375418  \n16                                        Berczy Park  43.644771 -79.373306  \n17                                 Central Bay Street  43.657952 -79.387383  \n18                         Adelaide,  King,  Richmond  43.650571 -79.384568  \n19   Harbourfront East,  Toronto Islands,  Union S...  43.640816 -79.381752  \n20          Design Exchange,  Toronto Dominion Centre  43.647177 -79.381576  \n21                    Commerce Court,  Victoria Hotel  43.648198 -79.379817  \n22                                           Roselawn  43.711695 -79.416936  \n23               Forest Hill North,  Forest Hill West  43.696948 -79.411307  \n24              The Annex,  North Midtown,  Yorkville  43.672710 -79.405678  \n25                    Harbord,  University of Toronto  43.662696 -79.400049  \n26        Chinatown,  Grange Park,  Kensington Market  43.653206 -79.400049  \n27   CN Tower,  Bathurst Quay,  Island airport,  H...  43.628947 -79.394420  \n28                    Stn A PO Boxes 25 The Esplanade  43.646435 -79.374846  \n29            First Canadian Place,  Underground city  43.648429 -79.382280  \n30                                           Christie  43.669542 -79.422564  \n31                      Dovercourt Village,  Dufferin  43.669005 -79.442259  \n32                          Little Portugal,  Trinity  43.647927 -79.419750  \n33     Brockton,  Exhibition Place,  Parkdale Village  43.636847 -79.428191  \n34                     High Park,  The Junction South  43.661608 -79.464763  \n35                            Parkdale,  Roncesvalles  43.648960 -79.456325  \n36                                Runnymede,  Swansea  43.651571 -79.484450  \n37   Business Reply Mail Processing Centre 969 Eas...  43.662744 -79.321558  "
                    },
                    "execution_count": 29
                }
            ],
            "metadata": {}
        },
        {
            "source": [
                "# create map of Toronto using latitude and longitude values\n",
                "map_Toronto = folium.Map(location=[latitude, longitude], zoom_start=10)\n",
                "\n",
                "# add markers to map\n",
                "for lat, lng, borough, neighborhood in zip(Torontogeodf['Latitude'], Torontogeodf['Longitude'], Torontogeodf['Borough'], Torontogeodf['Neighbourhood']):\n",
                "    label = '{}, {}'.format(neighborhood, borough)\n",
                "    label = folium.Popup(label, parse_html=True)\n",
                "    folium.CircleMarker(\n",
                "        [lat, lng],\n",
                "        radius=5,\n",
                "        popup=label,\n",
                "        color='blue',\n",
                "        fill=True,\n",
                "        fill_color='#3186cc',\n",
                "        fill_opacity=0.7,\n",
                "        parse_html=False).add_to(map_Toronto)  \n",
                "    \n",
                "map_Toronto"
            ],
            "cell_type": "code",
            "execution_count": 19,
            "outputs": [
                {
                    "output_type": "execute_result",
                    "metadata": {},
                    "data": {
                        "text/html": "<div style=\"width:100%;\"><div style=\"position:relative;width:100%;height:0;padding-bottom:60%;\"><iframe src=\"data:text/html;charset=utf-8;base64,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\" style=\"position:absolute;width:100%;height:100%;left:0;top:0;border:none !important;\" allowfullscreen webkitallowfullscreen mozallowfullscreen></iframe></div></div>",
                        "text/plain": "<folium.folium.Map at 0x7f9f037b5208>"
                    },
                    "execution_count": 19
                }
            ],
            "metadata": {}
        },
        {
            "source": [
                "# Exploring Venues using FourSquare\n",
                "CLIENT_ID = 'AV2RXHWVXPVA2W4UAFKRNVMEINKR3U2RAQYF2XBVARV3U0PG' # your Foursquare ID\n",
                "CLIENT_SECRET = 'PJIWCB43CE1JXMLIXKSCVWNOQ2HM130004DB0KOQX5MHHXEB' # your Foursquare Secret\n",
                "VERSION = '20180605' # Foursquare API version\n",
                "\n",
                "print('Your credentails:')\n",
                "print('CLIENT_ID: ' + CLIENT_ID)\n",
                "print('CLIENT_SECRET:' + CLIENT_SECRET)"
            ],
            "cell_type": "code",
            "execution_count": 13,
            "outputs": [
                {
                    "output_type": "stream",
                    "name": "stdout",
                    "text": "Your credentails:\nCLIENT_ID: AV2RXHWVXPVA2W4UAFKRNVMEINKR3U2RAQYF2XBVARV3U0PG\nCLIENT_SECRET:PJIWCB43CE1JXMLIXKSCVWNOQ2HM130004DB0KOQX5MHHXEB\n"
                }
            ],
            "metadata": {}
        },
        {
            "source": [
                "# Exploring the Venues nearby the Neighbourhood - Rosedale in Downtown TOronto\n",
                "Torontogeodf.loc[10,'Neighbourhood']"
            ],
            "cell_type": "code",
            "execution_count": 32,
            "outputs": [
                {
                    "output_type": "execute_result",
                    "metadata": {},
                    "data": {
                        "text/plain": "' Rosedale'"
                    },
                    "execution_count": 32
                }
            ],
            "metadata": {}
        },
        {
            "source": [
                "neighborhood_latitude = Torontogeodf.loc[10, 'Latitude'] # neighborhood latitude value\n",
                "neighborhood_longitude = Torontogeodf.loc[10, 'Longitude'] # neighborhood longitude value\n",
                "\n",
                "neighborhood_name = Torontogeodf.loc[10, 'Neighbourhood'] # neighborhood name\n",
                "\n",
                "print('Latitude and longitude values of {} are {}, {}.'.format(neighborhood_name, \n",
                "                                                               neighborhood_latitude, \n",
                "                                                               neighborhood_longitude))"
            ],
            "cell_type": "code",
            "execution_count": 33,
            "outputs": [
                {
                    "output_type": "stream",
                    "name": "stdout",
                    "text": "Latitude and longitude values of  Rosedale are 43.6795626, -79.37752940000001.\n"
                }
            ],
            "metadata": {}
        },
        {
            "source": [
                "LIMIT = 100 # limit of number of venues returned by Foursquare API\n",
                "radius = 500 # define radius\n",
                "# create URL\n",
                "url = 'https://api.foursquare.com/v2/venues/explore?&client_id={}&client_secret={}&v={}&ll={},{}&radius={}&limit={}'.format(\n",
                "    CLIENT_ID, \n",
                "    CLIENT_SECRET, \n",
                "    VERSION, \n",
                "    neighborhood_latitude, \n",
                "    neighborhood_longitude, \n",
                "    radius, \n",
                "    LIMIT)\n",
                "url # display URL"
            ],
            "cell_type": "code",
            "execution_count": 34,
            "outputs": [
                {
                    "output_type": "execute_result",
                    "metadata": {},
                    "data": {
                        "text/plain": "'https://api.foursquare.com/v2/venues/explore?&client_id=AV2RXHWVXPVA2W4UAFKRNVMEINKR3U2RAQYF2XBVARV3U0PG&client_secret=PJIWCB43CE1JXMLIXKSCVWNOQ2HM130004DB0KOQX5MHHXEB&v=20180605&ll=43.6795626,-79.37752940000001&radius=500&limit=100'"
                    },
                    "execution_count": 34
                }
            ],
            "metadata": {}
        },
        {
            "source": [
                "results = requests.get(url).json()\n",
                "results"
            ],
            "cell_type": "code",
            "execution_count": 26,
            "outputs": [
                {
                    "output_type": "execute_result",
                    "metadata": {},
                    "data": {
                        "text/plain": "{'meta': {'code': 200, 'requestId': '5d7bdedccc7d41002b26e304'},\n 'response': {'headerLocation': 'Rosedale',\n  'headerFullLocation': 'Rosedale, Toronto',\n  'headerLocationGranularity': 'neighborhood',\n  'totalResults': 5,\n  'suggestedBounds': {'ne': {'lat': 43.6840626045, 'lng': -79.37131878274371},\n   'sw': {'lat': 43.675062595499995, 'lng': -79.38374001725632}},\n  'groups': [{'type': 'Recommended Places',\n    'name': 'recommended',\n    'items': [{'reasons': {'count': 0,\n       'items': [{'summary': 'This spot is popular',\n         'type': 'general',\n         'reasonName': 'globalInteractionReason'}]},\n      'venue': {'id': '4bae2150f964a520df873be3',\n       'name': 'Mooredale House',\n       'location': {'address': '146 Crescent Rd.',\n        'crossStreet': 'btwn. Lamport Ave. and Mt. Pleasant Rd.',\n        'lat': 43.678630645646535,\n        'lng': -79.38009142511322,\n        'labeledLatLngs': [{'label': 'display',\n          'lat': 43.678630645646535,\n          'lng': -79.38009142511322}],\n        'distance': 230,\n        'postalCode': 'M4W 1V2',\n        'cc': 'CA',\n        'city': 'Toronto',\n        'state': 'ON',\n        'country': 'Canada',\n        'formattedAddress': ['146 Crescent Rd. (btwn. Lamport Ave. and Mt. Pleasant Rd.)',\n         'Toronto ON M4W 1V2',\n         'Canada']},\n       'categories': [{'id': '4bf58dd8d48988d130941735',\n         'name': 'Building',\n         'pluralName': 'Buildings',\n         'shortName': 'Building',\n         'icon': {'prefix': 'https://ss3.4sqi.net/img/categories_v2/building/default_',\n          'suffix': '.png'},\n         'primary': True}],\n       'photos': {'count': 0, 'groups': []}},\n      'referralId': 'e-0-4bae2150f964a520df873be3-0'},\n     {'reasons': {'count': 0,\n       'items': [{'summary': 'This spot is popular',\n         'type': 'general',\n         'reasonName': 'globalInteractionReason'}]},\n      'venue': {'id': '4aff2d47f964a520743522e3',\n       'name': 'Rosedale Park',\n       'location': {'address': '38 Scholfield Ave.',\n        'crossStreet': 'at Edgar Ave.',\n        'lat': 43.68232820227814,\n        'lng': -79.37893434347683,\n        'labeledLatLngs': [{'label': 'display',\n          'lat': 43.68232820227814,\n          'lng': -79.37893434347683}],\n        'distance': 327,\n        'cc': 'CA',\n        'city': 'Toronto',\n        'state': 'ON',\n        'country': 'Canada',\n        'formattedAddress': ['38 Scholfield Ave. (at Edgar Ave.)',\n         'Toronto ON',\n         'Canada']},\n       'categories': [{'id': '4bf58dd8d48988d1e7941735',\n         'name': 'Playground',\n         'pluralName': 'Playgrounds',\n         'shortName': 'Playground',\n         'icon': {'prefix': 'https://ss3.4sqi.net/img/categories_v2/parks_outdoors/playground_',\n          'suffix': '.png'},\n         'primary': True}],\n       'photos': {'count': 0, 'groups': []}},\n      'referralId': 'e-0-4aff2d47f964a520743522e3-1'},\n     {'reasons': {'count': 0,\n       'items': [{'summary': 'This spot is popular',\n         'type': 'general',\n         'reasonName': 'globalInteractionReason'}]},\n      'venue': {'id': '4bd777aa5cf276b054639b00',\n       'name': 'Whitney Park',\n       'location': {'lat': 43.68203573063681,\n        'lng': -79.37378835021306,\n        'labeledLatLngs': [{'label': 'display',\n          'lat': 43.68203573063681,\n          'lng': -79.37378835021306}],\n        'distance': 408,\n        'cc': 'CA',\n        'country': 'Canada',\n        'formattedAddress': ['Canada']},\n       'categories': [{'id': '4bf58dd8d48988d163941735',\n         'name': 'Park',\n         'pluralName': 'Parks',\n         'shortName': 'Park',\n         'icon': {'prefix': 'https://ss3.4sqi.net/img/categories_v2/parks_outdoors/park_',\n          'suffix': '.png'},\n         'primary': True}],\n       'photos': {'count': 0, 'groups': []}},\n      'referralId': 'e-0-4bd777aa5cf276b054639b00-2'},\n     {'reasons': {'count': 0,\n       'items': [{'summary': 'This spot is popular',\n         'type': 'general',\n         'reasonName': 'globalInteractionReason'}]},\n      'venue': {'id': '4d0e77df76cc37045715767c',\n       'name': 'Alex Murray Parkette',\n       'location': {'address': '107 Crescent Road',\n        'crossStreet': 'South Drive',\n        'lat': 43.678300240478954,\n        'lng': -79.38277328698108,\n        'labeledLatLngs': [{'label': 'display',\n          'lat': 43.678300240478954,\n          'lng': -79.38277328698108}],\n        'distance': 444,\n        'cc': 'CA',\n        'city': 'Toronto',\n        'state': 'ON',\n        'country': 'Canada',\n        'formattedAddress': ['107 Crescent Road (South Drive)',\n         'Toronto ON',\n         'Canada']},\n       'categories': [{'id': '4bf58dd8d48988d163941735',\n         'name': 'Park',\n         'pluralName': 'Parks',\n         'shortName': 'Park',\n         'icon': {'prefix': 'https://ss3.4sqi.net/img/categories_v2/parks_outdoors/park_',\n          'suffix': '.png'},\n         'primary': True}],\n       'photos': {'count': 0, 'groups': []}},\n      'referralId': 'e-0-4d0e77df76cc37045715767c-3'},\n     {'reasons': {'count': 0,\n       'items': [{'summary': 'This spot is popular',\n         'type': 'general',\n         'reasonName': 'globalInteractionReason'}]},\n      'venue': {'id': '4ef8f2a3775b54cdb5bdec7c',\n       'name': \"Milkman's Lane\",\n       'location': {'address': 'South Dr',\n        'crossStreet': 'at Glen Rd',\n        'lat': 43.676352068015554,\n        'lng': -79.37384239440172,\n        'labeledLatLngs': [{'label': 'display',\n          'lat': 43.676352068015554,\n          'lng': -79.37384239440172}],\n        'distance': 464,\n        'cc': 'CA',\n        'city': 'Toronto',\n        'state': 'ON',\n        'country': 'Canada',\n        'formattedAddress': ['South Dr (at Glen Rd)', 'Toronto ON', 'Canada']},\n       'categories': [{'id': '4bf58dd8d48988d159941735',\n         'name': 'Trail',\n         'pluralName': 'Trails',\n         'shortName': 'Trail',\n         'icon': {'prefix': 'https://ss3.4sqi.net/img/categories_v2/parks_outdoors/hikingtrail_',\n          'suffix': '.png'},\n         'primary': True}],\n       'photos': {'count': 0, 'groups': []}},\n      'referralId': 'e-0-4ef8f2a3775b54cdb5bdec7c-4'}]}]}}"
                    },
                    "execution_count": 26
                }
            ],
            "metadata": {}
        },
        {
            "source": [
                "# function that extracts the category of the venue\n",
                "def get_category_type(row):\n",
                "    try:\n",
                "        categories_list = row['categories']\n",
                "    except:\n",
                "        categories_list = row['venue.categories']\n",
                "        \n",
                "    if len(categories_list) == 0:\n",
                "        return None\n",
                "    else:\n",
                "        return categories_list[0]['name']"
            ],
            "cell_type": "code",
            "execution_count": 27,
            "outputs": [],
            "metadata": {}
        },
        {
            "source": [
                "venues = results['response']['groups'][0]['items']\n",
                "    \n",
                "nearby_venues = json_normalize(venues) # flatten JSON\n",
                "\n",
                "# filter columns\n",
                "filtered_columns = ['venue.name', 'venue.categories', 'venue.location.lat', 'venue.location.lng']\n",
                "nearby_venues =nearby_venues.loc[:, filtered_columns]\n",
                "\n",
                "# filter the category for each row\n",
                "nearby_venues['venue.categories'] = nearby_venues.apply(get_category_type, axis=1)\n",
                "\n",
                "# clean columns\n",
                "nearby_venues.columns = [col.split(\".\")[-1] for col in nearby_venues.columns]\n",
                "\n",
                "nearby_venues.head()"
            ],
            "cell_type": "code",
            "execution_count": 39,
            "outputs": [
                {
                    "output_type": "execute_result",
                    "metadata": {},
                    "data": {
                        "text/html": "<div>\n<style scoped>\n    .dataframe tbody tr th:only-of-type {\n        vertical-align: middle;\n    }\n\n    .dataframe tbody tr th {\n        vertical-align: top;\n    }\n\n    .dataframe thead th {\n        text-align: right;\n    }\n</style>\n<table border=\"1\" class=\"dataframe\">\n  <thead>\n    <tr style=\"text-align: right;\">\n      <th></th>\n      <th>name</th>\n      <th>categories</th>\n      <th>lat</th>\n      <th>lng</th>\n    </tr>\n  </thead>\n  <tbody>\n    <tr>\n      <th>0</th>\n      <td>Mooredale House</td>\n      <td>Building</td>\n      <td>43.678631</td>\n      <td>-79.380091</td>\n    </tr>\n    <tr>\n      <th>1</th>\n      <td>Rosedale Park</td>\n      <td>Playground</td>\n      <td>43.682328</td>\n      <td>-79.378934</td>\n    </tr>\n    <tr>\n      <th>2</th>\n      <td>Whitney Park</td>\n      <td>Park</td>\n      <td>43.682036</td>\n      <td>-79.373788</td>\n    </tr>\n    <tr>\n      <th>3</th>\n      <td>Alex Murray Parkette</td>\n      <td>Park</td>\n      <td>43.678300</td>\n      <td>-79.382773</td>\n    </tr>\n    <tr>\n      <th>4</th>\n      <td>Milkman's Lane</td>\n      <td>Trail</td>\n      <td>43.676352</td>\n      <td>-79.373842</td>\n    </tr>\n  </tbody>\n</table>\n</div>",
                        "text/plain": "                   name  categories        lat        lng\n0       Mooredale House    Building  43.678631 -79.380091\n1         Rosedale Park  Playground  43.682328 -79.378934\n2          Whitney Park        Park  43.682036 -79.373788\n3  Alex Murray Parkette        Park  43.678300 -79.382773\n4        Milkman's Lane       Trail  43.676352 -79.373842"
                    },
                    "execution_count": 39
                }
            ],
            "metadata": {}
        },
        {
            "source": [
                "print('{} venues were returned by Foursquare.'.format(nearby_venues.shape[0]))"
            ],
            "cell_type": "code",
            "execution_count": 38,
            "outputs": [
                {
                    "output_type": "stream",
                    "name": "stdout",
                    "text": "5 venues were returned by Foursquare.\n"
                }
            ],
            "metadata": {}
        },
        {
            "source": [
                "# Creating a function to repeat this for all neighbourhood across downtown Toronto\n",
                "def getNearbyVenues(names, latitudes, longitudes, radius=500):\n",
                "    \n",
                "    venues_list=[]\n",
                "    for name, lat, lng in zip(names, latitudes, longitudes):\n",
                "        print(name)\n",
                "            \n",
                "        # create the API request URL\n",
                "        url = 'https://api.foursquare.com/v2/venues/explore?&client_id={}&client_secret={}&v={}&ll={},{}&radius={}&limit={}'.format(\n",
                "            CLIENT_ID, \n",
                "            CLIENT_SECRET, \n",
                "            VERSION, \n",
                "            lat, \n",
                "            lng, \n",
                "            radius, \n",
                "            LIMIT)\n",
                "            \n",
                "        # make the GET request\n",
                "        results = requests.get(url).json()[\"response\"]['groups'][0]['items']\n",
                "        \n",
                "        # return only relevant information for each nearby venue\n",
                "        venues_list.append([(\n",
                "            name, \n",
                "            lat, \n",
                "            lng, \n",
                "            v['venue']['name'], \n",
                "            v['venue']['location']['lat'], \n",
                "            v['venue']['location']['lng'],  \n",
                "            v['venue']['categories'][0]['name']) for v in results])\n",
                "\n",
                "    nearby_venues = pd.DataFrame([item for venue_list in venues_list for item in venue_list])\n",
                "    nearby_venues.columns = ['Neighborhood', \n",
                "                  'Neighborhood Latitude', \n",
                "                  'Neighborhood Longitude', \n",
                "                  'Venue', \n",
                "                  'Venue Latitude', \n",
                "                  'Venue Longitude', \n",
                "                  'Venue Category']\n",
                "    \n",
                "    return(nearby_venues)"
            ],
            "cell_type": "code",
            "execution_count": 40,
            "outputs": [],
            "metadata": {}
        },
        {
            "source": [
                "DownTownToronto_venues = getNearbyVenues(names=Torontogeodf['Neighbourhood'],\n",
                "                                   latitudes=Torontogeodf['Latitude'],\n",
                "                                   longitudes=Torontogeodf['Longitude']\n",
                "                                  )"
            ],
            "cell_type": "code",
            "execution_count": 41,
            "outputs": [
                {
                    "output_type": "stream",
                    "name": "stdout",
                    "text": " The Beaches\n The Danforth West,  Riverdale\n The Beaches West,  India Bazaar\n Studio District\n Lawrence Park\n Davisville North\n North Toronto West\n Davisville\n Moore Park,  Summerhill East\n Deer Park,  Forest Hill SE,  Rathnelly,  South Hill,  Summerhill West\n Rosedale\n Cabbagetown,  St. James Town\n Church and Wellesley\n Harbourfront,  Regent Park\n Ryerson,  Garden District\n St. James Town\n Berczy Park\n Central Bay Street\n Adelaide,  King,  Richmond\n Harbourfront East,  Toronto Islands,  Union Station\n Design Exchange,  Toronto Dominion Centre\n Commerce Court,  Victoria Hotel\n Roselawn\n Forest Hill North,  Forest Hill West\n The Annex,  North Midtown,  Yorkville\n Harbord,  University of Toronto\n Chinatown,  Grange Park,  Kensington Market\n CN Tower,  Bathurst Quay,  Island airport,  Harbourfront West,  King and Spadina,  Railway Lands,  South Niagara\n Stn A PO Boxes 25 The Esplanade\n First Canadian Place,  Underground city\n Christie\n Dovercourt Village,  Dufferin\n Little Portugal,  Trinity\n Brockton,  Exhibition Place,  Parkdale Village\n High Park,  The Junction South\n Parkdale,  Roncesvalles\n Runnymede,  Swansea\n Business Reply Mail Processing Centre 969 Eastern\n"
                }
            ],
            "metadata": {}
        },
        {
            "source": [
                "print(DownTownToronto_venues.shape)\n",
                "DownTownToronto_venues.head()"
            ],
            "cell_type": "code",
            "execution_count": 44,
            "outputs": [
                {
                    "output_type": "stream",
                    "name": "stdout",
                    "text": "(1708, 7)\n"
                },
                {
                    "output_type": "execute_result",
                    "metadata": {},
                    "data": {
                        "text/html": "<div>\n<style scoped>\n    .dataframe tbody tr th:only-of-type {\n        vertical-align: middle;\n    }\n\n    .dataframe tbody tr th {\n        vertical-align: top;\n    }\n\n    .dataframe thead th {\n        text-align: right;\n    }\n</style>\n<table border=\"1\" class=\"dataframe\">\n  <thead>\n    <tr style=\"text-align: right;\">\n      <th></th>\n      <th>Neighborhood</th>\n      <th>Neighborhood Latitude</th>\n      <th>Neighborhood Longitude</th>\n      <th>Venue</th>\n      <th>Venue Latitude</th>\n      <th>Venue Longitude</th>\n      <th>Venue Category</th>\n    </tr>\n  </thead>\n  <tbody>\n    <tr>\n      <th>0</th>\n      <td>The Beaches</td>\n      <td>43.676357</td>\n      <td>-79.293031</td>\n      <td>Glen Manor Ravine</td>\n      <td>43.676821</td>\n      <td>-79.293942</td>\n      <td>Trail</td>\n    </tr>\n    <tr>\n      <th>1</th>\n      <td>The Beaches</td>\n      <td>43.676357</td>\n      <td>-79.293031</td>\n      <td>The Big Carrot Natural Food Market</td>\n      <td>43.678879</td>\n      <td>-79.297734</td>\n      <td>Health Food Store</td>\n    </tr>\n    <tr>\n      <th>2</th>\n      <td>The Beaches</td>\n      <td>43.676357</td>\n      <td>-79.293031</td>\n      <td>Grover Pub and Grub</td>\n      <td>43.679181</td>\n      <td>-79.297215</td>\n      <td>Pub</td>\n    </tr>\n    <tr>\n      <th>3</th>\n      <td>The Beaches</td>\n      <td>43.676357</td>\n      <td>-79.293031</td>\n      <td>Upper Beaches</td>\n      <td>43.680563</td>\n      <td>-79.292869</td>\n      <td>Neighborhood</td>\n    </tr>\n    <tr>\n      <th>4</th>\n      <td>The Danforth West,  Riverdale</td>\n      <td>43.679557</td>\n      <td>-79.352188</td>\n      <td>Pantheon</td>\n      <td>43.677621</td>\n      <td>-79.351434</td>\n      <td>Greek Restaurant</td>\n    </tr>\n  </tbody>\n</table>\n</div>",
                        "text/plain": "                     Neighborhood  Neighborhood Latitude  \\\n0                     The Beaches              43.676357   \n1                     The Beaches              43.676357   \n2                     The Beaches              43.676357   \n3                     The Beaches              43.676357   \n4   The Danforth West,  Riverdale              43.679557   \n\n   Neighborhood Longitude                               Venue  Venue Latitude  \\\n0              -79.293031                   Glen Manor Ravine       43.676821   \n1              -79.293031  The Big Carrot Natural Food Market       43.678879   \n2              -79.293031                 Grover Pub and Grub       43.679181   \n3              -79.293031                       Upper Beaches       43.680563   \n4              -79.352188                            Pantheon       43.677621   \n\n   Venue Longitude     Venue Category  \n0       -79.293942              Trail  \n1       -79.297734  Health Food Store  \n2       -79.297215                Pub  \n3       -79.292869       Neighborhood  \n4       -79.351434   Greek Restaurant  "
                    },
                    "execution_count": 44
                }
            ],
            "metadata": {}
        },
        {
            "source": [],
            "cell_type": "code",
            "execution_count": null,
            "outputs": [],
            "metadata": {}
        }
    ],
    "metadata": {
        "kernelspec": {
            "display_name": "Python 3.6.9 64-bit",
            "name": "python36964bitd423082b74664deaa0ca6a25283c7f49",
            "language": "python"
        },
        "language_info": {
            "mimetype": "text/x-python",
            "nbconvert_exporter": "python",
            "version": "3.6.9-final",
            "name": "python",
            "pygments_lexer": "ipython3",
            "file_extension": ".py",
            "codemirror_mode": {
                "version": 3,
                "name": "ipython"
            }
        }
    },
    "nbformat": 4,
    "nbformat_minor": 1
}